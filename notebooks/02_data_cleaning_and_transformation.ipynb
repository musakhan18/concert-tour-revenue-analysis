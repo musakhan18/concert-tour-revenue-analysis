{
 "cells": [
  {
   "cell_type": "code",
   "execution_count": 20,
   "id": "276100fa",
   "metadata": {},
   "outputs": [],
   "source": [
    "# --- 1. Import Libraries ---\n",
    "import pandas as pd\n",
    "import numpy as np"
   ]
  },
  {
   "cell_type": "code",
   "execution_count": 21,
   "id": "09ed5846",
   "metadata": {},
   "outputs": [],
   "source": [
    "# --- 1. Load Data ---\n",
    "file_path = \"../data/Concert Tour Revenue Dataset.csv\"  \n",
    "df = pd.read_csv(file_path)"
   ]
  },
  {
   "cell_type": "code",
   "execution_count": 22,
   "id": "3621ace9",
   "metadata": {},
   "outputs": [
    {
     "data": {
      "text/html": [
       "<div>\n",
       "<style scoped>\n",
       "    .dataframe tbody tr th:only-of-type {\n",
       "        vertical-align: middle;\n",
       "    }\n",
       "\n",
       "    .dataframe tbody tr th {\n",
       "        vertical-align: top;\n",
       "    }\n",
       "\n",
       "    .dataframe thead th {\n",
       "        text-align: right;\n",
       "    }\n",
       "</style>\n",
       "<table border=\"1\" class=\"dataframe\">\n",
       "  <thead>\n",
       "    <tr style=\"text-align: right;\">\n",
       "      <th></th>\n",
       "      <th>Rank</th>\n",
       "      <th>Peak</th>\n",
       "      <th>All Time Peak</th>\n",
       "      <th>Actual gross</th>\n",
       "      <th>Adjusted gross (in 2022 dollars)</th>\n",
       "      <th>Artist</th>\n",
       "      <th>Tour title</th>\n",
       "      <th>Year(s)</th>\n",
       "      <th>Shows</th>\n",
       "      <th>Average gross</th>\n",
       "      <th>Ref.</th>\n",
       "    </tr>\n",
       "  </thead>\n",
       "  <tbody>\n",
       "    <tr>\n",
       "      <th>0</th>\n",
       "      <td>1</td>\n",
       "      <td>1</td>\n",
       "      <td>2</td>\n",
       "      <td>$780,000,000</td>\n",
       "      <td>$780,000,000</td>\n",
       "      <td>Taylor Swift</td>\n",
       "      <td>The Eras Tour †</td>\n",
       "      <td>2023–2024</td>\n",
       "      <td>56</td>\n",
       "      <td>$13,928,571</td>\n",
       "      <td>[1]</td>\n",
       "    </tr>\n",
       "    <tr>\n",
       "      <th>1</th>\n",
       "      <td>2</td>\n",
       "      <td>1</td>\n",
       "      <td>7[2]</td>\n",
       "      <td>$579,800,000</td>\n",
       "      <td>$579,800,000</td>\n",
       "      <td>Beyoncé</td>\n",
       "      <td>Renaissance World Tour</td>\n",
       "      <td>2023</td>\n",
       "      <td>56</td>\n",
       "      <td>$10,353,571</td>\n",
       "      <td>[3]</td>\n",
       "    </tr>\n",
       "    <tr>\n",
       "      <th>2</th>\n",
       "      <td>3</td>\n",
       "      <td>1[4]</td>\n",
       "      <td>2[5]</td>\n",
       "      <td>$411,000,000</td>\n",
       "      <td>$560,622,615</td>\n",
       "      <td>Madonna</td>\n",
       "      <td>Sticky &amp; Sweet Tour ‡[4][a]</td>\n",
       "      <td>2008–2009</td>\n",
       "      <td>85</td>\n",
       "      <td>$4,835,294</td>\n",
       "      <td>[6]</td>\n",
       "    </tr>\n",
       "  </tbody>\n",
       "</table>\n",
       "</div>"
      ],
      "text/plain": [
       "   Rank  Peak All Time Peak  Actual gross Adjusted gross (in 2022 dollars)  \\\n",
       "0     1     1             2  $780,000,000                     $780,000,000   \n",
       "1     2     1          7[2]  $579,800,000                     $579,800,000   \n",
       "2     3  1[4]          2[5]  $411,000,000                     $560,622,615   \n",
       "\n",
       "         Artist                   Tour title    Year(s)  Shows Average gross  \\\n",
       "0  Taylor Swift              The Eras Tour †  2023–2024     56   $13,928,571   \n",
       "1       Beyoncé       Renaissance World Tour       2023     56   $10,353,571   \n",
       "2       Madonna  Sticky & Sweet Tour ‡[4][a]  2008–2009     85    $4,835,294   \n",
       "\n",
       "  Ref.  \n",
       "0  [1]  \n",
       "1  [3]  \n",
       "2  [6]  "
      ]
     },
     "execution_count": 22,
     "metadata": {},
     "output_type": "execute_result"
    }
   ],
   "source": [
    "# --- 3. Quick Check ---\n",
    "df.head(3)"
   ]
  },
  {
   "cell_type": "markdown",
   "id": "c3f1ce2f",
   "metadata": {},
   "source": [
    "Find the literal character \"Â\" (it often appears due to encoding issues when reading CSVs).\n",
    "\n",
    "Replace it with an empty string \"\" (removing it completely).\n",
    "\n",
    "regex=False tells pandas not to treat \"Â\" as a regular expression pattern, just match the literal character."
   ]
  },
  {
   "cell_type": "code",
   "execution_count": 23,
   "id": "de85454e",
   "metadata": {},
   "outputs": [],
   "source": [
    "# --- 4. Fix Column Name Encoding ---\n",
    "df.columns = df.columns.str.replace(\"Â\", \"\", regex=False).str.strip()\n",
    "\n",
    "df.columns = (\n",
    "    df.columns\n",
    "    .str.replace(\"\\xa0\", \" \", regex=False)  # replace non-breaking spaces with normal spaces\n",
    "    .str.strip()  # remove leading/trailing spaces\n",
    ")"
   ]
  },
  {
   "cell_type": "code",
   "execution_count": 24,
   "id": "90b8a6f1",
   "metadata": {},
   "outputs": [],
   "source": [
    "# --- 5. Clean Monetary Columns ---\n",
    "money_cols = [\"Actual gross\", \"Adjusted gross (2022 USD)\", \"Average gross\"]\n",
    "\n",
    "for col in money_cols:\n",
    "    if col in df.columns:\n",
    "        df[col] = (\n",
    "            df[col]\n",
    "            .astype(str)\n",
    "            .str.replace(r\"[\\$,]\", \"\", regex=True)\n",
    "            .str.replace(r\"\\[.*?\\]\", \"\", regex=True)\n",
    "            .str.strip()\n",
    "            .replace(\"\", np.nan)\n",
    "            .astype(float)\n",
    "        )"
   ]
  },
  {
   "cell_type": "code",
   "execution_count": 25,
   "id": "8e502f24",
   "metadata": {},
   "outputs": [],
   "source": [
    "# --- 6. Split Year(s) into Start & End Year ---\n",
    "if \"Year(s)\" in df.columns:\n",
    "    df[\"Start_Year\"] = df[\"Year(s)\"].astype(str).str.extract(r\"(\\d{4})\").astype(float)\n",
    "    df[\"End_Year\"] = df[\"Year(s)\"].astype(str).str.extract(r\".*?(\\d{4})$\").astype(float)"
   ]
  },
  {
   "cell_type": "code",
   "execution_count": 26,
   "id": "415c1617",
   "metadata": {},
   "outputs": [],
   "source": [
    "# --- 7. Clean 'Peak' and 'All Time Peak' (remove footnotes like [1]) ---\n",
    "for col in [\"Peak\", \"All Time Peak\"]:\n",
    "    if col in df.columns:\n",
    "        df[col] = (\n",
    "            df[col]\n",
    "            .astype(str)\n",
    "            .str.replace(r\"\\[.*?\\]\", \"\", regex=True)\n",
    "            .replace(\"nan\", np.nan)\n",
    "            .astype(float)\n",
    "        )"
   ]
  },
  {
   "cell_type": "code",
   "execution_count": 27,
   "id": "8e303a1e",
   "metadata": {},
   "outputs": [],
   "source": [
    "# --- 8. Trim and Standardize Text Columns ---\n",
    "text_cols = df.select_dtypes(include=\"object\").columns\n",
    "for col in text_cols:\n",
    "    df[col] = df[col].str.strip()"
   ]
  },
  {
   "cell_type": "code",
   "execution_count": 28,
   "id": "55d69f2d",
   "metadata": {},
   "outputs": [],
   "source": [
    "# --- 9. Handle Missing Values ---\n",
    "df = df.fillna({\n",
    "    \"Peak\": -1,\n",
    "    \"All Time Peak\": -1\n",
    "})\n",
    "df = df.dropna(subset=[\"Artist\", \"Tour title\"])  # Drop rows missing key info"
   ]
  },
  {
   "cell_type": "code",
   "execution_count": 29,
   "id": "68d137df",
   "metadata": {},
   "outputs": [],
   "source": [
    "# --- 10. Remove Duplicates ---\n",
    "df = df.drop_duplicates()"
   ]
  },
  {
   "cell_type": "code",
   "execution_count": 30,
   "id": "b6e89f0d",
   "metadata": {},
   "outputs": [],
   "source": [
    "# --- 11. Save Cleaned Data ---\n",
    "df.to_csv(\"../data/concert_tours_clean.csv\", index=False)"
   ]
  }
 ],
 "metadata": {
  "kernelspec": {
   "display_name": "base",
   "language": "python",
   "name": "python3"
  },
  "language_info": {
   "codemirror_mode": {
    "name": "ipython",
    "version": 3
   },
   "file_extension": ".py",
   "mimetype": "text/x-python",
   "name": "python",
   "nbconvert_exporter": "python",
   "pygments_lexer": "ipython3",
   "version": "3.11.7"
  }
 },
 "nbformat": 4,
 "nbformat_minor": 5
}
